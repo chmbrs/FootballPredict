{
 "cells": [
  {
   "cell_type": "code",
   "execution_count": 1,
   "metadata": {},
   "outputs": [],
   "source": [
    "import pandas as pd"
   ]
  },
  {
   "cell_type": "markdown",
   "metadata": {},
   "source": [
    "# Data"
   ]
  },
  {
   "cell_type": "markdown",
   "metadata": {},
   "source": [
    "# http://www.football-data.co.uk/brazil.php Data\n",
    "\n",
    "## Data Description\n",
    "\n",
    "### Notes for Football Data\n",
    "\n",
    "All data is in csv format, ready for use within standard spreadsheet applications. Please note that some abbreviations are no longer in use (in particular odds from specific bookmakers no longer used) and refer to data collected in earlier seasons. For a current list of what bookmakers are included in the dataset please visit http://www.football-data.co.uk/matches.php\n",
    "\n",
    "#### Key to results data:\n",
    "\n",
    "- Date = Match Date (dd/mm/yy)\n",
    "- Home = Home Team\n",
    "- Away = Away Team\n",
    "- HG = Full Time Home Team Goals\n",
    "- AG = Full Time Away Team Goals\n",
    "- Res = Full Time Result (H=Home Win, D=Draw, A=Away Win)\n",
    "\n",
    "##### Key to 1X2 (match) betting odds data:\n",
    "\n",
    "- PH = Pinnacle home win odds\n",
    "- PD = Pinnacle draw odds\n",
    "- PA = Pinnacle away win odds\n",
    "\n",
    "- MaxH = Oddsportal maximum home win odds\n",
    "- MaxD = Oddsportal maximum draw win odds\n",
    "- MaxA = Oddsportal maximum away win odds\n",
    "\n",
    "- AvgH = Oddsportal average home win odds\n",
    "- AvgD = Oddsportal average draw win odds\n",
    "- AvgA = Oddsportal average away win odds\n",
    "\n",
    "\n",
    "Current results (full time, half time)\n",
    "Xcores - http://www.xcores.com\n",
    "\n",
    "Bookmakers betting odds\n",
    "Betbrain - http://www.betbrain.com\n",
    "Oddsportal - http://www.oddsportal.com\n",
    "Individual bookmakers\n",
    "\n",
    "Betting odds for weekend games are collected Friday afternoons, and on Tuesday afternoons for midweek games.\n"
   ]
  },
  {
   "cell_type": "code",
   "execution_count": 2,
   "metadata": {},
   "outputs": [],
   "source": [
    "df = pd.read_csv('../Data/Brazil_Serie_A/BRA.csv')"
   ]
  },
  {
   "cell_type": "markdown",
   "metadata": {},
   "source": [
    "."
   ]
  },
  {
   "cell_type": "code",
   "execution_count": 3,
   "metadata": {},
   "outputs": [
    {
     "data": {
      "text/html": [
       "<div>\n",
       "<style scoped>\n",
       "    .dataframe tbody tr th:only-of-type {\n",
       "        vertical-align: middle;\n",
       "    }\n",
       "\n",
       "    .dataframe tbody tr th {\n",
       "        vertical-align: top;\n",
       "    }\n",
       "\n",
       "    .dataframe thead th {\n",
       "        text-align: right;\n",
       "    }\n",
       "</style>\n",
       "<table border=\"1\" class=\"dataframe\">\n",
       "  <thead>\n",
       "    <tr style=\"text-align: right;\">\n",
       "      <th></th>\n",
       "      <th>Country</th>\n",
       "      <th>League</th>\n",
       "      <th>Season</th>\n",
       "      <th>Date</th>\n",
       "      <th>Time</th>\n",
       "      <th>Home</th>\n",
       "      <th>Away</th>\n",
       "      <th>HG</th>\n",
       "      <th>AG</th>\n",
       "      <th>Res</th>\n",
       "      <th>PH</th>\n",
       "      <th>PD</th>\n",
       "      <th>PA</th>\n",
       "      <th>MaxH</th>\n",
       "      <th>MaxD</th>\n",
       "      <th>MaxA</th>\n",
       "      <th>AvgH</th>\n",
       "      <th>AvgD</th>\n",
       "      <th>AvgA</th>\n",
       "    </tr>\n",
       "  </thead>\n",
       "  <tbody>\n",
       "    <tr>\n",
       "      <th>2471</th>\n",
       "      <td>Brazil</td>\n",
       "      <td>Serie A</td>\n",
       "      <td>2018</td>\n",
       "      <td>23/08/18</td>\n",
       "      <td>01:00</td>\n",
       "      <td>Sport Recife</td>\n",
       "      <td>America MG</td>\n",
       "      <td>0.0</td>\n",
       "      <td>2.0</td>\n",
       "      <td>A</td>\n",
       "      <td>1.94</td>\n",
       "      <td>3.26</td>\n",
       "      <td>4.72</td>\n",
       "      <td>2.01</td>\n",
       "      <td>3.50</td>\n",
       "      <td>4.75</td>\n",
       "      <td>1.92</td>\n",
       "      <td>3.23</td>\n",
       "      <td>4.27</td>\n",
       "    </tr>\n",
       "    <tr>\n",
       "      <th>2472</th>\n",
       "      <td>Brazil</td>\n",
       "      <td>Serie A</td>\n",
       "      <td>2018</td>\n",
       "      <td>23/08/18</td>\n",
       "      <td>01:45</td>\n",
       "      <td>Fluminense</td>\n",
       "      <td>Corinthians</td>\n",
       "      <td>1.0</td>\n",
       "      <td>0.0</td>\n",
       "      <td>H</td>\n",
       "      <td>2.16</td>\n",
       "      <td>3.14</td>\n",
       "      <td>4.02</td>\n",
       "      <td>2.33</td>\n",
       "      <td>3.22</td>\n",
       "      <td>4.15</td>\n",
       "      <td>2.10</td>\n",
       "      <td>3.06</td>\n",
       "      <td>3.83</td>\n",
       "    </tr>\n",
       "    <tr>\n",
       "      <th>2473</th>\n",
       "      <td>Brazil</td>\n",
       "      <td>Serie A</td>\n",
       "      <td>2018</td>\n",
       "      <td>23/08/18</td>\n",
       "      <td>01:45</td>\n",
       "      <td>Gremio</td>\n",
       "      <td>Cruzeiro</td>\n",
       "      <td>1.0</td>\n",
       "      <td>1.0</td>\n",
       "      <td>D</td>\n",
       "      <td>1.88</td>\n",
       "      <td>3.10</td>\n",
       "      <td>5.51</td>\n",
       "      <td>1.94</td>\n",
       "      <td>3.20</td>\n",
       "      <td>5.51</td>\n",
       "      <td>1.86</td>\n",
       "      <td>3.08</td>\n",
       "      <td>4.89</td>\n",
       "    </tr>\n",
       "    <tr>\n",
       "      <th>2474</th>\n",
       "      <td>Brazil</td>\n",
       "      <td>Serie A</td>\n",
       "      <td>2018</td>\n",
       "      <td>23/08/18</td>\n",
       "      <td>23:30</td>\n",
       "      <td>Flamengo RJ</td>\n",
       "      <td>Vitoria</td>\n",
       "      <td>1.0</td>\n",
       "      <td>0.0</td>\n",
       "      <td>H</td>\n",
       "      <td>1.28</td>\n",
       "      <td>5.57</td>\n",
       "      <td>13.69</td>\n",
       "      <td>1.36</td>\n",
       "      <td>5.65</td>\n",
       "      <td>13.69</td>\n",
       "      <td>1.29</td>\n",
       "      <td>5.19</td>\n",
       "      <td>10.83</td>\n",
       "    </tr>\n",
       "    <tr>\n",
       "      <th>2475</th>\n",
       "      <td>Brazil</td>\n",
       "      <td>Serie A</td>\n",
       "      <td>2018</td>\n",
       "      <td>24/08/18</td>\n",
       "      <td>00:00</td>\n",
       "      <td>Atletico-MG</td>\n",
       "      <td>Vasco</td>\n",
       "      <td>0.0</td>\n",
       "      <td>0.0</td>\n",
       "      <td>D</td>\n",
       "      <td>1.48</td>\n",
       "      <td>4.47</td>\n",
       "      <td>7.57</td>\n",
       "      <td>1.50</td>\n",
       "      <td>4.54</td>\n",
       "      <td>8.50</td>\n",
       "      <td>1.46</td>\n",
       "      <td>4.26</td>\n",
       "      <td>6.93</td>\n",
       "    </tr>\n",
       "  </tbody>\n",
       "</table>\n",
       "</div>"
      ],
      "text/plain": [
       "     Country   League  Season      Date   Time          Home         Away  \\\n",
       "2471  Brazil  Serie A    2018  23/08/18  01:00  Sport Recife   America MG   \n",
       "2472  Brazil  Serie A    2018  23/08/18  01:45    Fluminense  Corinthians   \n",
       "2473  Brazil  Serie A    2018  23/08/18  01:45        Gremio     Cruzeiro   \n",
       "2474  Brazil  Serie A    2018  23/08/18  23:30   Flamengo RJ      Vitoria   \n",
       "2475  Brazil  Serie A    2018  24/08/18  00:00   Atletico-MG        Vasco   \n",
       "\n",
       "       HG   AG Res    PH    PD     PA  MaxH  MaxD   MaxA  AvgH  AvgD   AvgA  \n",
       "2471  0.0  2.0   A  1.94  3.26   4.72  2.01  3.50   4.75  1.92  3.23   4.27  \n",
       "2472  1.0  0.0   H  2.16  3.14   4.02  2.33  3.22   4.15  2.10  3.06   3.83  \n",
       "2473  1.0  1.0   D  1.88  3.10   5.51  1.94  3.20   5.51  1.86  3.08   4.89  \n",
       "2474  1.0  0.0   H  1.28  5.57  13.69  1.36  5.65  13.69  1.29  5.19  10.83  \n",
       "2475  0.0  0.0   D  1.48  4.47   7.57  1.50  4.54   8.50  1.46  4.26   6.93  "
      ]
     },
     "execution_count": 3,
     "metadata": {},
     "output_type": "execute_result"
    }
   ],
   "source": [
    "df.tail()"
   ]
  },
  {
   "cell_type": "markdown",
   "metadata": {},
   "source": [
    "."
   ]
  },
  {
   "cell_type": "markdown",
   "metadata": {},
   "source": [
    "# Scraper"
   ]
  },
  {
   "cell_type": "code",
   "execution_count": 4,
   "metadata": {},
   "outputs": [],
   "source": [
    "# Import the scraper libraries"
   ]
  },
  {
   "cell_type": "code",
   "execution_count": 5,
   "metadata": {},
   "outputs": [],
   "source": [
    "from bs4 import BeautifulSoup\n",
    "import requests\n",
    "import os, os.path, csv"
   ]
  },
  {
   "cell_type": "code",
   "execution_count": 6,
   "metadata": {},
   "outputs": [],
   "source": [
    "def date_fixer(date):\n",
    "    #Remove white spaces\n",
    "    date = date.strip()\n",
    "    #Get the last five char\n",
    "    date = date[-5:]\n",
    "    #Add the year\n",
    "    date = date + '/18'\n",
    "    return date"
   ]
  },
  {
   "cell_type": "code",
   "execution_count": 65,
   "metadata": {},
   "outputs": [],
   "source": [
    "def clean_html(html):\n",
    "    # Take the second table wich contains all the info\n",
    "    html = html[1]\n",
    "    # Drop the useless columns\n",
    "    html.drop(labels=[3,4,5], axis=1, inplace=True)\n",
    "    # Drop the nan values from the third column\n",
    "    html.dropna(subset=[2], inplace=True)\n",
    "    return html"
   ]
  },
  {
   "cell_type": "code",
   "execution_count": 7,
   "metadata": {},
   "outputs": [],
   "source": [
    "# Pinnacle"
   ]
  },
  {
   "cell_type": "code",
   "execution_count": 8,
   "metadata": {},
   "outputs": [],
   "source": [
    "pinnacle_url = 'https://www.pinnacle.com/en/odds/match/soccer/brazil/brazil-serie-a'"
   ]
  },
  {
   "cell_type": "code",
   "execution_count": 9,
   "metadata": {},
   "outputs": [],
   "source": [
    "from selenium import webdriver\n",
    "\n",
    "# start Chrome\n",
    "options = webdriver.ChromeOptions()\n",
    "options.add_argument('headless')\n",
    "try:\n",
    "    browser = webdriver.Chrome(chrome_options=options)\n",
    "except:\n",
    "    pass\n",
    "\n",
    "browser.get(pinnacle_url)\n",
    "html = browser.page_source"
   ]
  },
  {
   "cell_type": "code",
   "execution_count": 10,
   "metadata": {},
   "outputs": [],
   "source": [
    "soup = BeautifulSoup(html, \"html.parser\")"
   ]
  },
  {
   "cell_type": "markdown",
   "metadata": {},
   "source": [
    "Date\n",
    "Time\n",
    "Home\n",
    "Away\n",
    "- PH = Pinnacle home win odds\n",
    "- PD = Pinnacle draw odds\n",
    "- PA = Pinnacle away win odds\n",
    "\n",
    "bindings = soup.find_all('span', class_=\"ng-binding\")"
   ]
  },
  {
   "cell_type": "code",
   "execution_count": 11,
   "metadata": {},
   "outputs": [],
   "source": [
    "# Scrap date with BS\n",
    "date_raw = soup.find('span', class_=\"date-highlight ng-binding ng-scope\").text\n",
    "date = date_fixer(date_raw)"
   ]
  },
  {
   "cell_type": "code",
   "execution_count": 63,
   "metadata": {},
   "outputs": [],
   "source": [
    "# Scrap:\n",
    "# - Time\n",
    "# - Home\n",
    "# - Away\n",
    "# - Home Odds\n",
    "# - Draw Odds\n",
    "# - Away Odds\n",
    "\n",
    "df_html = pd.read_html(html)\n",
    "info_table = clean_html(df_html)"
   ]
  },
  {
   "cell_type": "code",
   "execution_count": 64,
   "metadata": {},
   "outputs": [
    {
     "data": {
      "text/html": [
       "<div>\n",
       "<style scoped>\n",
       "    .dataframe tbody tr th:only-of-type {\n",
       "        vertical-align: middle;\n",
       "    }\n",
       "\n",
       "    .dataframe tbody tr th {\n",
       "        vertical-align: top;\n",
       "    }\n",
       "\n",
       "    .dataframe thead th {\n",
       "        text-align: right;\n",
       "    }\n",
       "</style>\n",
       "<table border=\"1\" class=\"dataframe\">\n",
       "  <thead>\n",
       "    <tr style=\"text-align: right;\">\n",
       "      <th></th>\n",
       "      <th>0</th>\n",
       "      <th>1</th>\n",
       "      <th>2</th>\n",
       "    </tr>\n",
       "  </thead>\n",
       "  <tbody>\n",
       "    <tr>\n",
       "      <th>0</th>\n",
       "      <td>15.0</td>\n",
       "      <td>Vasco da Gama</td>\n",
       "      <td>2.050</td>\n",
       "    </tr>\n",
       "    <tr>\n",
       "      <th>1</th>\n",
       "      <td>NaN</td>\n",
       "      <td>Chapecoense</td>\n",
       "      <td>4.109</td>\n",
       "    </tr>\n",
       "    <tr>\n",
       "      <th>2</th>\n",
       "      <td>NaN</td>\n",
       "      <td>Draw</td>\n",
       "      <td>3.320</td>\n",
       "    </tr>\n",
       "    <tr>\n",
       "      <th>4</th>\n",
       "      <td>12.0</td>\n",
       "      <td>SC Internacional Porto Alegre</td>\n",
       "      <td>2.190</td>\n",
       "    </tr>\n",
       "    <tr>\n",
       "      <th>5</th>\n",
       "      <td>NaN</td>\n",
       "      <td>Palmeiras</td>\n",
       "      <td>3.680</td>\n",
       "    </tr>\n",
       "    <tr>\n",
       "      <th>6</th>\n",
       "      <td>NaN</td>\n",
       "      <td>Draw</td>\n",
       "      <td>3.270</td>\n",
       "    </tr>\n",
       "    <tr>\n",
       "      <th>8</th>\n",
       "      <td>12.0</td>\n",
       "      <td>America Mineiro</td>\n",
       "      <td>3.570</td>\n",
       "    </tr>\n",
       "    <tr>\n",
       "      <th>9</th>\n",
       "      <td>NaN</td>\n",
       "      <td>Flamengo</td>\n",
       "      <td>2.320</td>\n",
       "    </tr>\n",
       "    <tr>\n",
       "      <th>10</th>\n",
       "      <td>NaN</td>\n",
       "      <td>Draw</td>\n",
       "      <td>3.110</td>\n",
       "    </tr>\n",
       "    <tr>\n",
       "      <th>12</th>\n",
       "      <td>12.0</td>\n",
       "      <td>Vitoria BA</td>\n",
       "      <td>3.120</td>\n",
       "    </tr>\n",
       "    <tr>\n",
       "      <th>13</th>\n",
       "      <td>NaN</td>\n",
       "      <td>Atletico Mineiro</td>\n",
       "      <td>2.240</td>\n",
       "    </tr>\n",
       "    <tr>\n",
       "      <th>14</th>\n",
       "      <td>NaN</td>\n",
       "      <td>Draw</td>\n",
       "      <td>3.740</td>\n",
       "    </tr>\n",
       "  </tbody>\n",
       "</table>\n",
       "</div>"
      ],
      "text/plain": [
       "       0                              1      2\n",
       "0   15.0                  Vasco da Gama  2.050\n",
       "1    NaN                    Chapecoense  4.109\n",
       "2    NaN                           Draw  3.320\n",
       "4   12.0  SC Internacional Porto Alegre  2.190\n",
       "5    NaN                      Palmeiras  3.680\n",
       "6    NaN                           Draw  3.270\n",
       "8   12.0                America Mineiro  3.570\n",
       "9    NaN                       Flamengo  2.320\n",
       "10   NaN                           Draw  3.110\n",
       "12  12.0                     Vitoria BA  3.120\n",
       "13   NaN               Atletico Mineiro  2.240\n",
       "14   NaN                           Draw  3.740"
      ]
     },
     "execution_count": 64,
     "metadata": {},
     "output_type": "execute_result"
    }
   ],
   "source": [
    "info_table"
   ]
  },
  {
   "cell_type": "code",
   "execution_count": null,
   "metadata": {},
   "outputs": [],
   "source": []
  },
  {
   "cell_type": "code",
   "execution_count": 83,
   "metadata": {},
   "outputs": [
    {
     "data": {
      "text/plain": [
       "0               15\n",
       "1    Vasco da Gama\n",
       "2             2.05\n",
       "Name: 0, dtype: object"
      ]
     },
     "execution_count": 83,
     "metadata": {},
     "output_type": "execute_result"
    }
   ],
   "source": [
    "info_table.loc[0]"
   ]
  },
  {
   "cell_type": "code",
   "execution_count": 85,
   "metadata": {},
   "outputs": [
    {
     "ename": "NameError",
     "evalue": "name 'notnan' is not defined",
     "output_type": "error",
     "traceback": [
      "\u001b[1;31m---------------------------------------------------------------------------\u001b[0m",
      "\u001b[1;31mNameError\u001b[0m                                 Traceback (most recent call last)",
      "\u001b[1;32m<ipython-input-85-4b5b295738ab>\u001b[0m in \u001b[0;36m<module>\u001b[1;34m()\u001b[0m\n\u001b[1;32m----> 1\u001b[1;33m \u001b[0mnotnan\u001b[0m\u001b[1;33m(\u001b[0m\u001b[0mdf\u001b[0m\u001b[1;33m.\u001b[0m\u001b[0miloc\u001b[0m\u001b[1;33m[\u001b[0m\u001b[1;36m1\u001b[0m\u001b[1;33m,\u001b[0m\u001b[1;36m0\u001b[0m\u001b[1;33m]\u001b[0m\u001b[1;33m)\u001b[0m\u001b[1;33m\u001b[0m\u001b[0m\n\u001b[0m",
      "\u001b[1;31mNameError\u001b[0m: name 'notnan' is not defined"
     ]
    }
   ],
   "source": [
    "notnan(df.iloc[1,0])"
   ]
  },
  {
   "cell_type": "code",
   "execution_count": 105,
   "metadata": {},
   "outputs": [
    {
     "name": "stdout",
     "output_type": "stream",
     "text": [
      "0               15\n",
      "1    Vasco da Gama\n",
      "2             2.05\n",
      "Name: 0, dtype: object\n",
      "0                               12\n",
      "1    SC Internacional Porto Alegre\n",
      "2                             2.19\n",
      "Name: 4, dtype: object\n",
      "0                 12\n",
      "1    America Mineiro\n",
      "2               3.57\n",
      "Name: 8, dtype: object\n",
      "0            12\n",
      "1    Vitoria BA\n",
      "2          3.12\n",
      "Name: 12, dtype: object\n"
     ]
    }
   ],
   "source": [
    "for index, row in info_table.iterrows():\n",
    "    if(pd.notnull(row[0])):\n",
    "        \n",
    "        print(row)"
   ]
  },
  {
   "cell_type": "code",
   "execution_count": 66,
   "metadata": {},
   "outputs": [
    {
     "data": {
      "text/html": [
       "<div>\n",
       "<style scoped>\n",
       "    .dataframe tbody tr th:only-of-type {\n",
       "        vertical-align: middle;\n",
       "    }\n",
       "\n",
       "    .dataframe tbody tr th {\n",
       "        vertical-align: top;\n",
       "    }\n",
       "\n",
       "    .dataframe thead th {\n",
       "        text-align: right;\n",
       "    }\n",
       "</style>\n",
       "<table border=\"1\" class=\"dataframe\">\n",
       "  <thead>\n",
       "    <tr style=\"text-align: right;\">\n",
       "      <th></th>\n",
       "      <th>Country</th>\n",
       "      <th>League</th>\n",
       "      <th>Season</th>\n",
       "      <th>Date</th>\n",
       "      <th>Time</th>\n",
       "      <th>Home</th>\n",
       "      <th>Away</th>\n",
       "      <th>HG</th>\n",
       "      <th>AG</th>\n",
       "      <th>Res</th>\n",
       "      <th>PH</th>\n",
       "      <th>PD</th>\n",
       "      <th>PA</th>\n",
       "      <th>MaxH</th>\n",
       "      <th>MaxD</th>\n",
       "      <th>MaxA</th>\n",
       "      <th>AvgH</th>\n",
       "      <th>AvgD</th>\n",
       "      <th>AvgA</th>\n",
       "    </tr>\n",
       "  </thead>\n",
       "  <tbody>\n",
       "    <tr>\n",
       "      <th>2475</th>\n",
       "      <td>Brazil</td>\n",
       "      <td>Serie A</td>\n",
       "      <td>2018</td>\n",
       "      <td>24/08/18</td>\n",
       "      <td>00:00</td>\n",
       "      <td>Atletico-MG</td>\n",
       "      <td>Vasco</td>\n",
       "      <td>0.0</td>\n",
       "      <td>0.0</td>\n",
       "      <td>D</td>\n",
       "      <td>1.48</td>\n",
       "      <td>4.47</td>\n",
       "      <td>7.57</td>\n",
       "      <td>1.5</td>\n",
       "      <td>4.54</td>\n",
       "      <td>8.5</td>\n",
       "      <td>1.46</td>\n",
       "      <td>4.26</td>\n",
       "      <td>6.93</td>\n",
       "    </tr>\n",
       "  </tbody>\n",
       "</table>\n",
       "</div>"
      ],
      "text/plain": [
       "     Country   League  Season      Date   Time         Home   Away   HG   AG  \\\n",
       "2475  Brazil  Serie A    2018  24/08/18  00:00  Atletico-MG  Vasco  0.0  0.0   \n",
       "\n",
       "     Res    PH    PD    PA  MaxH  MaxD  MaxA  AvgH  AvgD  AvgA  \n",
       "2475   D  1.48  4.47  7.57   1.5  4.54   8.5  1.46  4.26  6.93  "
      ]
     },
     "execution_count": 66,
     "metadata": {},
     "output_type": "execute_result"
    }
   ],
   "source": [
    "df.tail(1)"
   ]
  },
  {
   "cell_type": "code",
   "execution_count": null,
   "metadata": {},
   "outputs": [],
   "source": [
    "# Create an empty DataFrame with the main df headers\n",
    "df_predict = pd.DataFrame(data=None, columns=df.columns)\n",
    "\n",
    "\n",
    "new_row = pd.Series([country, league, season, date],\n",
    "                    index = ['Country', 'League', 'Season',\n",
    "                             'Date', 'Time', 'Home', 'Away', \n",
    "                             'HG','AG', 'Res', 'PH', 'PD', \n",
    "                             'PA', 'MaxH', 'MaxD', 'MaxA', \n",
    "                             'AvgH', 'AvgD','AvgA'])\n",
    "\n",
    "country = 'Brazil'\n",
    "league = 'Serie A'\n",
    "season = '2018'\n",
    "date = date\n",
    "    "
   ]
  },
  {
   "cell_type": "code",
   "execution_count": 77,
   "metadata": {},
   "outputs": [],
   "source": [
    "# Create an empty DataFrame with the main df headers\n",
    "df_predict = pd.DataFrame(data=None, columns=df.columns)"
   ]
  },
  {
   "cell_type": "code",
   "execution_count": 75,
   "metadata": {},
   "outputs": [
    {
     "data": {
      "text/html": [
       "<div>\n",
       "<style scoped>\n",
       "    .dataframe tbody tr th:only-of-type {\n",
       "        vertical-align: middle;\n",
       "    }\n",
       "\n",
       "    .dataframe tbody tr th {\n",
       "        vertical-align: top;\n",
       "    }\n",
       "\n",
       "    .dataframe thead th {\n",
       "        text-align: right;\n",
       "    }\n",
       "</style>\n",
       "<table border=\"1\" class=\"dataframe\">\n",
       "  <thead>\n",
       "    <tr style=\"text-align: right;\">\n",
       "      <th></th>\n",
       "      <th>Country</th>\n",
       "      <th>League</th>\n",
       "      <th>Season</th>\n",
       "      <th>Date</th>\n",
       "      <th>Time</th>\n",
       "      <th>Home</th>\n",
       "      <th>Away</th>\n",
       "      <th>HG</th>\n",
       "      <th>AG</th>\n",
       "      <th>Res</th>\n",
       "      <th>PH</th>\n",
       "      <th>PD</th>\n",
       "      <th>PA</th>\n",
       "      <th>MaxH</th>\n",
       "      <th>MaxD</th>\n",
       "      <th>MaxA</th>\n",
       "      <th>AvgH</th>\n",
       "      <th>AvgD</th>\n",
       "      <th>AvgA</th>\n",
       "    </tr>\n",
       "  </thead>\n",
       "  <tbody>\n",
       "  </tbody>\n",
       "</table>\n",
       "</div>"
      ],
      "text/plain": [
       "Empty DataFrame\n",
       "Columns: [Country, League, Season, Date, Time, Home, Away, HG, AG, Res, PH, PD, PA, MaxH, MaxD, MaxA, AvgH, AvgD, AvgA]\n",
       "Index: []"
      ]
     },
     "execution_count": 75,
     "metadata": {},
     "output_type": "execute_result"
    }
   ],
   "source": [
    "def create_row(main_df, date, pinnacle_table):\n",
    "    "
   ]
  },
  {
   "cell_type": "code",
   "execution_count": 78,
   "metadata": {},
   "outputs": [],
   "source": [
    "\n",
    "time = \n"
   ]
  },
  {
   "cell_type": "code",
   "execution_count": null,
   "metadata": {},
   "outputs": [],
   "source": [
    "row = pd.Series(['time_stamp', ad_id, title, category_id, price, initial_quantity, available_quantity, sold_quantity,\n",
    "                     status, date_created, var_id, variations, var_name, var_price, var_available_quantity, var_sold_quantity, total_views],\n",
    "                    index = ['date', 'ad_id', 'title', 'category_id', 'price', 'initial_quantity','available_quantity', 'sold_quantity', \n",
    "                             'status', 'date_created', 'var_id','variations','var_name', 'var_price', 'var_available_quantity','var_sold_quantity','total_views'])\n",
    "            df = df.append(row, ignore_index=True)"
   ]
  }
 ],
 "metadata": {
  "kernelspec": {
   "display_name": "Python 3",
   "language": "python",
   "name": "python3"
  },
  "language_info": {
   "codemirror_mode": {
    "name": "ipython",
    "version": 3
   },
   "file_extension": ".py",
   "mimetype": "text/x-python",
   "name": "python",
   "nbconvert_exporter": "python",
   "pygments_lexer": "ipython3",
   "version": "3.6.6"
  }
 },
 "nbformat": 4,
 "nbformat_minor": 2
}
