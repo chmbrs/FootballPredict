{
 "cells": [
  {
   "cell_type": "code",
   "execution_count": 2,
   "metadata": {},
   "outputs": [],
   "source": [
    "import pandas as pd"
   ]
  },
  {
   "cell_type": "markdown",
   "metadata": {},
   "source": [
    "# Data"
   ]
  },
  {
   "cell_type": "markdown",
   "metadata": {},
   "source": [
    "# http://www.football-data.co.uk/brazil.php Data\n",
    "\n",
    "## Data Description\n",
    "\n",
    "### Notes for Football Data\n",
    "\n",
    "All data is in csv format, ready for use within standard spreadsheet applications. Please note that some abbreviations are no longer in use (in particular odds from specific bookmakers no longer used) and refer to data collected in earlier seasons. For a current list of what bookmakers are included in the dataset please visit http://www.football-data.co.uk/matches.php\n",
    "\n",
    "#### Key to results data:\n",
    "\n",
    "- Date = Match Date (dd/mm/yy)\n",
    "- Home = Home Team\n",
    "- Away = Away Team\n",
    "- HG = Full Time Home Team Goals\n",
    "- AG = Full Time Away Team Goals\n",
    "- Res = Full Time Result (H=Home Win, D=Draw, A=Away Win)\n",
    "\n",
    "##### Key to 1X2 (match) betting odds data:\n",
    "\n",
    "- PH = Pinnacle home win odds\n",
    "- PD = Pinnacle draw odds\n",
    "- PA = Pinnacle away win odds\n",
    "\n",
    "- MaxH = Oddsportal maximum home win odds\n",
    "- MaxD = Oddsportal maximum draw win odds\n",
    "- MaxA = Oddsportal maximum away win odds\n",
    "\n",
    "- AvgH = Oddsportal average home win odds\n",
    "- AvgD = Oddsportal average draw win odds\n",
    "- AvgA = Oddsportal average away win odds\n",
    "\n",
    "\n",
    "Current results (full time, half time)\n",
    "Xcores - http://www.xcores.com\n",
    "\n",
    "Bookmakers betting odds\n",
    "Betbrain - http://www.betbrain.com\n",
    "Oddsportal - http://www.oddsportal.com\n",
    "Individual bookmakers\n",
    "\n",
    "Betting odds for weekend games are collected Friday afternoons, and on Tuesday afternoons for midweek games.\n"
   ]
  },
  {
   "cell_type": "code",
   "execution_count": 3,
   "metadata": {},
   "outputs": [],
   "source": [
    "df = pd.read_csv('../Data/Brazil_Serie_A/BRA.csv')"
   ]
  },
  {
   "cell_type": "markdown",
   "metadata": {},
   "source": [
    "."
   ]
  },
  {
   "cell_type": "code",
   "execution_count": 5,
   "metadata": {},
   "outputs": [
    {
     "data": {
      "text/html": [
       "<div>\n",
       "<style scoped>\n",
       "    .dataframe tbody tr th:only-of-type {\n",
       "        vertical-align: middle;\n",
       "    }\n",
       "\n",
       "    .dataframe tbody tr th {\n",
       "        vertical-align: top;\n",
       "    }\n",
       "\n",
       "    .dataframe thead th {\n",
       "        text-align: right;\n",
       "    }\n",
       "</style>\n",
       "<table border=\"1\" class=\"dataframe\">\n",
       "  <thead>\n",
       "    <tr style=\"text-align: right;\">\n",
       "      <th></th>\n",
       "      <th>Country</th>\n",
       "      <th>League</th>\n",
       "      <th>Season</th>\n",
       "      <th>Date</th>\n",
       "      <th>Time</th>\n",
       "      <th>Home</th>\n",
       "      <th>Away</th>\n",
       "      <th>HG</th>\n",
       "      <th>AG</th>\n",
       "      <th>Res</th>\n",
       "      <th>PH</th>\n",
       "      <th>PD</th>\n",
       "      <th>PA</th>\n",
       "      <th>MaxH</th>\n",
       "      <th>MaxD</th>\n",
       "      <th>MaxA</th>\n",
       "      <th>AvgH</th>\n",
       "      <th>AvgD</th>\n",
       "      <th>AvgA</th>\n",
       "    </tr>\n",
       "  </thead>\n",
       "  <tbody>\n",
       "    <tr>\n",
       "      <th>2471</th>\n",
       "      <td>Brazil</td>\n",
       "      <td>Serie A</td>\n",
       "      <td>2018</td>\n",
       "      <td>23/08/18</td>\n",
       "      <td>01:00</td>\n",
       "      <td>Sport Recife</td>\n",
       "      <td>America MG</td>\n",
       "      <td>0.0</td>\n",
       "      <td>2.0</td>\n",
       "      <td>A</td>\n",
       "      <td>1.94</td>\n",
       "      <td>3.26</td>\n",
       "      <td>4.72</td>\n",
       "      <td>2.01</td>\n",
       "      <td>3.50</td>\n",
       "      <td>4.75</td>\n",
       "      <td>1.92</td>\n",
       "      <td>3.23</td>\n",
       "      <td>4.27</td>\n",
       "    </tr>\n",
       "    <tr>\n",
       "      <th>2472</th>\n",
       "      <td>Brazil</td>\n",
       "      <td>Serie A</td>\n",
       "      <td>2018</td>\n",
       "      <td>23/08/18</td>\n",
       "      <td>01:45</td>\n",
       "      <td>Fluminense</td>\n",
       "      <td>Corinthians</td>\n",
       "      <td>1.0</td>\n",
       "      <td>0.0</td>\n",
       "      <td>H</td>\n",
       "      <td>2.16</td>\n",
       "      <td>3.14</td>\n",
       "      <td>4.02</td>\n",
       "      <td>2.33</td>\n",
       "      <td>3.22</td>\n",
       "      <td>4.15</td>\n",
       "      <td>2.10</td>\n",
       "      <td>3.06</td>\n",
       "      <td>3.83</td>\n",
       "    </tr>\n",
       "    <tr>\n",
       "      <th>2473</th>\n",
       "      <td>Brazil</td>\n",
       "      <td>Serie A</td>\n",
       "      <td>2018</td>\n",
       "      <td>23/08/18</td>\n",
       "      <td>01:45</td>\n",
       "      <td>Gremio</td>\n",
       "      <td>Cruzeiro</td>\n",
       "      <td>1.0</td>\n",
       "      <td>1.0</td>\n",
       "      <td>D</td>\n",
       "      <td>1.88</td>\n",
       "      <td>3.10</td>\n",
       "      <td>5.51</td>\n",
       "      <td>1.94</td>\n",
       "      <td>3.20</td>\n",
       "      <td>5.51</td>\n",
       "      <td>1.86</td>\n",
       "      <td>3.08</td>\n",
       "      <td>4.89</td>\n",
       "    </tr>\n",
       "    <tr>\n",
       "      <th>2474</th>\n",
       "      <td>Brazil</td>\n",
       "      <td>Serie A</td>\n",
       "      <td>2018</td>\n",
       "      <td>23/08/18</td>\n",
       "      <td>23:30</td>\n",
       "      <td>Flamengo RJ</td>\n",
       "      <td>Vitoria</td>\n",
       "      <td>1.0</td>\n",
       "      <td>0.0</td>\n",
       "      <td>H</td>\n",
       "      <td>1.28</td>\n",
       "      <td>5.57</td>\n",
       "      <td>13.69</td>\n",
       "      <td>1.36</td>\n",
       "      <td>5.65</td>\n",
       "      <td>13.69</td>\n",
       "      <td>1.29</td>\n",
       "      <td>5.19</td>\n",
       "      <td>10.83</td>\n",
       "    </tr>\n",
       "    <tr>\n",
       "      <th>2475</th>\n",
       "      <td>Brazil</td>\n",
       "      <td>Serie A</td>\n",
       "      <td>2018</td>\n",
       "      <td>24/08/18</td>\n",
       "      <td>00:00</td>\n",
       "      <td>Atletico-MG</td>\n",
       "      <td>Vasco</td>\n",
       "      <td>0.0</td>\n",
       "      <td>0.0</td>\n",
       "      <td>D</td>\n",
       "      <td>1.48</td>\n",
       "      <td>4.47</td>\n",
       "      <td>7.57</td>\n",
       "      <td>1.50</td>\n",
       "      <td>4.54</td>\n",
       "      <td>8.50</td>\n",
       "      <td>1.46</td>\n",
       "      <td>4.26</td>\n",
       "      <td>6.93</td>\n",
       "    </tr>\n",
       "  </tbody>\n",
       "</table>\n",
       "</div>"
      ],
      "text/plain": [
       "     Country   League  Season      Date   Time          Home         Away  \\\n",
       "2471  Brazil  Serie A    2018  23/08/18  01:00  Sport Recife   America MG   \n",
       "2472  Brazil  Serie A    2018  23/08/18  01:45    Fluminense  Corinthians   \n",
       "2473  Brazil  Serie A    2018  23/08/18  01:45        Gremio     Cruzeiro   \n",
       "2474  Brazil  Serie A    2018  23/08/18  23:30   Flamengo RJ      Vitoria   \n",
       "2475  Brazil  Serie A    2018  24/08/18  00:00   Atletico-MG        Vasco   \n",
       "\n",
       "       HG   AG Res    PH    PD     PA  MaxH  MaxD   MaxA  AvgH  AvgD   AvgA  \n",
       "2471  0.0  2.0   A  1.94  3.26   4.72  2.01  3.50   4.75  1.92  3.23   4.27  \n",
       "2472  1.0  0.0   H  2.16  3.14   4.02  2.33  3.22   4.15  2.10  3.06   3.83  \n",
       "2473  1.0  1.0   D  1.88  3.10   5.51  1.94  3.20   5.51  1.86  3.08   4.89  \n",
       "2474  1.0  0.0   H  1.28  5.57  13.69  1.36  5.65  13.69  1.29  5.19  10.83  \n",
       "2475  0.0  0.0   D  1.48  4.47   7.57  1.50  4.54   8.50  1.46  4.26   6.93  "
      ]
     },
     "execution_count": 5,
     "metadata": {},
     "output_type": "execute_result"
    }
   ],
   "source": [
    "df.tail()"
   ]
  },
  {
   "cell_type": "markdown",
   "metadata": {},
   "source": [
    "."
   ]
  },
  {
   "cell_type": "markdown",
   "metadata": {},
   "source": [
    "# Scraper"
   ]
  },
  {
   "cell_type": "code",
   "execution_count": 13,
   "metadata": {},
   "outputs": [],
   "source": [
    "# Import the scraper libraries"
   ]
  },
  {
   "cell_type": "code",
   "execution_count": 7,
   "metadata": {},
   "outputs": [],
   "source": [
    "from bs4 import BeautifulSoup\n",
    "import requests\n",
    "import os, os.path, csv"
   ]
  },
  {
   "cell_type": "code",
   "execution_count": null,
   "metadata": {},
   "outputs": [],
   "source": [
    "def date_fixer(date):\n",
    "    #Remove white spaces\n",
    "    date = date.strip()\n",
    "    #Get the last five char\n",
    "    date = date[-5:]\n",
    "    #Add the year\n",
    "    date = date + '/18'\n",
    "    return date"
   ]
  },
  {
   "cell_type": "code",
   "execution_count": 8,
   "metadata": {},
   "outputs": [],
   "source": [
    "# Pinnacle"
   ]
  },
  {
   "cell_type": "code",
   "execution_count": 45,
   "metadata": {},
   "outputs": [],
   "source": [
    "from selenium import webdriver\n",
    "\n",
    "# start Chrome\n",
    "options = webdriver.ChromeOptions()\n",
    "options.add_argument('headless')\n",
    "try:\n",
    "    browser = webdriver.Chrome(chrome_options=options)\n",
    "except:\n",
    "    pass\n",
    "\n",
    "browser.get(\"https://www.pinnacle.com/en/odds/match/soccer/brazil/brazil-serie-a\")\n",
    "html = browser.page_source"
   ]
  },
  {
   "cell_type": "code",
   "execution_count": 48,
   "metadata": {},
   "outputs": [],
   "source": [
    "soup = BeautifulSoup(html, \"html.parser\")"
   ]
  },
  {
   "cell_type": "markdown",
   "metadata": {},
   "source": [
    "\n",
    "Date\n",
    "Time\n",
    "Home\n",
    "Away\n",
    "- PH = Pinnacle home win odds\n",
    "- PD = Pinnacle draw odds\n",
    "- PA = Pinnacle away win odds\n",
    "\n",
    "bindings = soup.find_all('span', class_=\"ng-binding\")"
   ]
  },
  {
   "cell_type": "code",
   "execution_count": 85,
   "metadata": {},
   "outputs": [],
   "source": [
    "date_raw = soup.find('span', class_=\"date-highlight ng-binding ng-scope\").text\n",
    "date = date_fixer(date_raw)"
   ]
  },
  {
   "cell_type": "code",
   "execution_count": null,
   "metadata": {},
   "outputs": [],
   "source": [
    "dfhtml = pd.read_html(html)"
   ]
  },
  {
   "cell_type": "code",
   "execution_count": null,
   "metadata": {},
   "outputs": [],
   "source": [
    "dfhtml[1]"
   ]
  },
  {
   "cell_type": "code",
   "execution_count": 106,
   "metadata": {},
   "outputs": [
    {
     "data": {
      "text/html": [
       "<div>\n",
       "<style scoped>\n",
       "    .dataframe tbody tr th:only-of-type {\n",
       "        vertical-align: middle;\n",
       "    }\n",
       "\n",
       "    .dataframe tbody tr th {\n",
       "        vertical-align: top;\n",
       "    }\n",
       "\n",
       "    .dataframe thead th {\n",
       "        text-align: right;\n",
       "    }\n",
       "</style>\n",
       "<table border=\"1\" class=\"dataframe\">\n",
       "  <thead>\n",
       "    <tr style=\"text-align: right;\">\n",
       "      <th></th>\n",
       "      <th>Country</th>\n",
       "      <th>League</th>\n",
       "      <th>Season</th>\n",
       "      <th>Date</th>\n",
       "      <th>Time</th>\n",
       "      <th>Home</th>\n",
       "      <th>Away</th>\n",
       "      <th>HG</th>\n",
       "      <th>AG</th>\n",
       "      <th>Res</th>\n",
       "      <th>PH</th>\n",
       "      <th>PD</th>\n",
       "      <th>PA</th>\n",
       "      <th>MaxH</th>\n",
       "      <th>MaxD</th>\n",
       "      <th>MaxA</th>\n",
       "      <th>AvgH</th>\n",
       "      <th>AvgD</th>\n",
       "      <th>AvgA</th>\n",
       "    </tr>\n",
       "  </thead>\n",
       "  <tbody>\n",
       "    <tr>\n",
       "      <th>2475</th>\n",
       "      <td>Brazil</td>\n",
       "      <td>Serie A</td>\n",
       "      <td>2018</td>\n",
       "      <td>24/08/18</td>\n",
       "      <td>00:00</td>\n",
       "      <td>Atletico-MG</td>\n",
       "      <td>Vasco</td>\n",
       "      <td>0.0</td>\n",
       "      <td>0.0</td>\n",
       "      <td>D</td>\n",
       "      <td>1.48</td>\n",
       "      <td>4.47</td>\n",
       "      <td>7.57</td>\n",
       "      <td>1.5</td>\n",
       "      <td>4.54</td>\n",
       "      <td>8.5</td>\n",
       "      <td>1.46</td>\n",
       "      <td>4.26</td>\n",
       "      <td>6.93</td>\n",
       "    </tr>\n",
       "  </tbody>\n",
       "</table>\n",
       "</div>"
      ],
      "text/plain": [
       "     Country   League  Season      Date   Time         Home   Away   HG   AG  \\\n",
       "2475  Brazil  Serie A    2018  24/08/18  00:00  Atletico-MG  Vasco  0.0  0.0   \n",
       "\n",
       "     Res    PH    PD    PA  MaxH  MaxD  MaxA  AvgH  AvgD  AvgA  \n",
       "2475   D  1.48  4.47  7.57   1.5  4.54   8.5  1.46  4.26  6.93  "
      ]
     },
     "execution_count": 106,
     "metadata": {},
     "output_type": "execute_result"
    }
   ],
   "source": [
    "df.tail(1)"
   ]
  },
  {
   "cell_type": "code",
   "execution_count": 126,
   "metadata": {},
   "outputs": [],
   "source": []
  }
 ],
 "metadata": {
  "kernelspec": {
   "display_name": "Python 3",
   "language": "python",
   "name": "python3"
  },
  "language_info": {
   "codemirror_mode": {
    "name": "ipython",
    "version": 3
   },
   "file_extension": ".py",
   "mimetype": "text/x-python",
   "name": "python",
   "nbconvert_exporter": "python",
   "pygments_lexer": "ipython3",
   "version": "3.6.6"
  }
 },
 "nbformat": 4,
 "nbformat_minor": 2
}
